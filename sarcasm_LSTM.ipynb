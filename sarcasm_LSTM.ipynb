{
  "nbformat": 4,
  "nbformat_minor": 0,
  "metadata": {
    "colab": {
      "name": "sarcasm_LSTM.ipynb",
      "provenance": [],
      "authorship_tag": "ABX9TyMwO7rVJSHShNOOX3FYX8v8",
      "include_colab_link": true
    },
    "kernelspec": {
      "name": "python3",
      "display_name": "Python 3"
    },
    "accelerator": "GPU"
  },
  "cells": [
    {
      "cell_type": "markdown",
      "metadata": {
        "id": "view-in-github",
        "colab_type": "text"
      },
      "source": [
        "<a href=\"https://colab.research.google.com/github/perses08/Sarcasm_Detect_-nlp-/blob/main/sarcasm_LSTM.ipynb\" target=\"_parent\"><img src=\"https://colab.research.google.com/assets/colab-badge.svg\" alt=\"Open In Colab\"/></a>"
      ]
    },
    {
      "cell_type": "code",
      "metadata": {
        "colab": {
          "base_uri": "https://localhost:8080/"
        },
        "id": "CBm459c04B_i",
        "outputId": "8ffcdbcd-843f-44d6-fbbd-55f105197022"
      },
      "source": [
        "!wget --no-check-certificate \\\n",
        "    https://storage.googleapis.com/laurencemoroney-blog.appspot.com/sarcasm.json \\\n",
        "    -O /tmp/sarcasm.json"
      ],
      "execution_count": 1,
      "outputs": [
        {
          "output_type": "stream",
          "text": [
            "--2020-11-26 04:51:23--  https://storage.googleapis.com/laurencemoroney-blog.appspot.com/sarcasm.json\n",
            "Resolving storage.googleapis.com (storage.googleapis.com)... 64.233.188.128, 64.233.189.128, 108.177.97.128, ...\n",
            "Connecting to storage.googleapis.com (storage.googleapis.com)|64.233.188.128|:443... connected.\n",
            "HTTP request sent, awaiting response... 200 OK\n",
            "Length: 5643545 (5.4M) [application/json]\n",
            "Saving to: ‘/tmp/sarcasm.json’\n",
            "\n",
            "/tmp/sarcasm.json   100%[===================>]   5.38M  --.-KB/s    in 0.05s   \n",
            "\n",
            "2020-11-26 04:51:24 (103 MB/s) - ‘/tmp/sarcasm.json’ saved [5643545/5643545]\n",
            "\n"
          ],
          "name": "stdout"
        }
      ]
    },
    {
      "cell_type": "code",
      "metadata": {
        "id": "TxncHngZ4TC-"
      },
      "source": [
        "import tensorflow as tf \n",
        "from tensorflow.keras.preprocessing.text import Tokenizer\n",
        "from tensorflow.keras.preprocessing.sequence import pad_sequences\n",
        "import numpy as np\n",
        "from tensorflow.keras import layers as l\n",
        "import json"
      ],
      "execution_count": 3,
      "outputs": []
    },
    {
      "cell_type": "code",
      "metadata": {
        "id": "i0f5uG7B44Rb"
      },
      "source": [
        "with open('/tmp/sarcasm.json','r') as f:\n",
        "  datastore = json.load(f)"
      ],
      "execution_count": 4,
      "outputs": []
    },
    {
      "cell_type": "code",
      "metadata": {
        "colab": {
          "base_uri": "https://localhost:8080/"
        },
        "id": "7L_Ks7Cl5gan",
        "outputId": "0f1ab8cd-6ce2-406e-a5fe-66a0bf0a4b22"
      },
      "source": [
        "sentences = []\n",
        "labels = []\n",
        "\n",
        "for i in datastore:\n",
        "  sentences.append(i['headline'])\n",
        "  labels.append(i['is_sarcastic'])\n",
        "\n",
        "len(sentences)"
      ],
      "execution_count": 6,
      "outputs": [
        {
          "output_type": "execute_result",
          "data": {
            "text/plain": [
              "26709"
            ]
          },
          "metadata": {
            "tags": []
          },
          "execution_count": 6
        }
      ]
    },
    {
      "cell_type": "code",
      "metadata": {
        "id": "9D4nMLT_5_h8"
      },
      "source": [
        "train_sentences = sentences[:20000]\n",
        "test_sentences = sentences[20000:]\n",
        "\n",
        "train_labels = labels[:20000]\n",
        "test_labels = labels[20000:]"
      ],
      "execution_count": 7,
      "outputs": []
    },
    {
      "cell_type": "code",
      "metadata": {
        "id": "OZnA-iBh8Z2T"
      },
      "source": [
        "token = Tokenizer(num_words=5000, oov_token='oov')\n",
        "token.fit_on_texts(sentences)"
      ],
      "execution_count": 8,
      "outputs": []
    },
    {
      "cell_type": "code",
      "metadata": {
        "id": "tLYWL99b9OeH"
      },
      "source": [
        "train_sequences = token.texts_to_sequences(train_sentences)\n",
        "test_sequences = token.texts_to_sequences(test_sentences)\n",
        "\n",
        "train = pad_sequences(train_sequences, maxlen=120, padding='post',truncating='post')\n",
        "test = pad_sequences(test_sequences, maxlen=120, padding='post',truncating='post')"
      ],
      "execution_count": 9,
      "outputs": []
    },
    {
      "cell_type": "code",
      "metadata": {
        "id": "hgiLR_ow93WG"
      },
      "source": [
        "train = np.array(train)\n",
        "test = np.array(test)\n",
        "\n",
        "train_labels = np.array(train_labels)\n",
        "test_labels = np.array(test_labels)"
      ],
      "execution_count": 10,
      "outputs": []
    },
    {
      "cell_type": "code",
      "metadata": {
        "id": "m_zB5eDK-OvO"
      },
      "source": [
        "model = tf.keras.Sequential([\n",
        "                             l.Embedding(5000, 32, input_length=120),\n",
        "                             l.Bidirectional(l.LSTM(32)),\n",
        "                             l.Dense(24,activation='relu'),\n",
        "                             l.Dense(1,activation='relu')\n",
        "])\n",
        "\n",
        "model.compile(loss = 'binary_crossentropy', optimizer = 'adam', metrics = ['accuracy'])"
      ],
      "execution_count": 11,
      "outputs": []
    },
    {
      "cell_type": "code",
      "metadata": {
        "colab": {
          "base_uri": "https://localhost:8080/"
        },
        "id": "9L99MET__GC2",
        "outputId": "71757642-47a3-4f07-a922-a4816fd0cd46"
      },
      "source": [
        "model.fit(train, train_labels, epochs=10, validation_data=(test, test_labels), verbose=2)"
      ],
      "execution_count": 12,
      "outputs": [
        {
          "output_type": "stream",
          "text": [
            "Epoch 1/10\n",
            "625/625 - 9s - loss: 0.5008 - accuracy: 0.7648 - val_loss: 0.4250 - val_accuracy: 0.8453\n",
            "Epoch 2/10\n",
            "625/625 - 8s - loss: 0.3426 - accuracy: 0.8668 - val_loss: 0.4662 - val_accuracy: 0.8457\n",
            "Epoch 3/10\n",
            "625/625 - 8s - loss: 0.2767 - accuracy: 0.9025 - val_loss: 0.4950 - val_accuracy: 0.8529\n",
            "Epoch 4/10\n",
            "625/625 - 9s - loss: 0.2338 - accuracy: 0.9250 - val_loss: 0.7802 - val_accuracy: 0.8505\n",
            "Epoch 5/10\n",
            "625/625 - 8s - loss: 0.2515 - accuracy: 0.9276 - val_loss: 0.9235 - val_accuracy: 0.8457\n",
            "Epoch 6/10\n",
            "625/625 - 8s - loss: 0.2063 - accuracy: 0.9485 - val_loss: 1.0390 - val_accuracy: 0.8416\n",
            "Epoch 7/10\n",
            "625/625 - 8s - loss: 0.1828 - accuracy: 0.9618 - val_loss: 1.0842 - val_accuracy: 0.8340\n",
            "Epoch 8/10\n",
            "625/625 - 8s - loss: 0.1654 - accuracy: 0.9713 - val_loss: 1.3572 - val_accuracy: 0.8401\n",
            "Epoch 9/10\n",
            "625/625 - 8s - loss: 0.1496 - accuracy: 0.9786 - val_loss: 1.5616 - val_accuracy: 0.8313\n",
            "Epoch 10/10\n",
            "625/625 - 8s - loss: 0.1723 - accuracy: 0.9787 - val_loss: 1.4568 - val_accuracy: 0.8328\n"
          ],
          "name": "stdout"
        },
        {
          "output_type": "execute_result",
          "data": {
            "text/plain": [
              "<tensorflow.python.keras.callbacks.History at 0x7fa4b2ec25f8>"
            ]
          },
          "metadata": {
            "tags": []
          },
          "execution_count": 12
        }
      ]
    },
    {
      "cell_type": "code",
      "metadata": {
        "id": "PMocKTcd_vvU"
      },
      "source": [
        "model = tf.keras.Sequential([\n",
        "    tf.keras.layers.Embedding(vocab_size, embedding_dim, input_length=max_length),\n",
        "    tf.keras.layers.Conv1D(128, 5, activation='relu'),\n",
        "    tf.keras.layers.GlobalMaxPooling1D(),\n",
        "    tf.keras.layers.Dense(24, activation='relu'),\n",
        "    tf.keras.layers.Dense(1, activation='sigmoid')\n",
        "])"
      ],
      "execution_count": null,
      "outputs": []
    },
    {
      "cell_type": "code",
      "metadata": {
        "id": "ky0st4e6_w85"
      },
      "source": [
        "import matplotlib.pyplot as plt\n",
        "\n",
        "\n",
        "def plot_graphs(history, string):\n",
        "  plt.plot(history.history[string])\n",
        "  plt.plot(history.history['val_'+string])\n",
        "  plt.xlabel(\"Epochs\")\n",
        "  plt.ylabel(string)\n",
        "  plt.legend([string, 'val_'+string])\n",
        "  plt.show()\n",
        "\n",
        "plot_graphs(history, 'accuracy')\n",
        "plot_graphs(history, 'loss')"
      ],
      "execution_count": null,
      "outputs": []
    }
  ]
}