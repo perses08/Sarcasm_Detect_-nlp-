{
  "nbformat": 4,
  "nbformat_minor": 0,
  "metadata": {
    "colab": {
      "name": "Tokenize_padded.ipynb",
      "provenance": [],
      "authorship_tag": "ABX9TyN8EPi9HLNCyd7Cmu8gVrwP",
      "include_colab_link": true
    },
    "kernelspec": {
      "name": "python3",
      "display_name": "Python 3"
    }
  },
  "cells": [
    {
      "cell_type": "markdown",
      "metadata": {
        "id": "view-in-github",
        "colab_type": "text"
      },
      "source": [
        "<a href=\"https://colab.research.google.com/github/perses08/Sarcasm_Detect_-nlp-/blob/main/Tokenize_padded.ipynb\" target=\"_parent\"><img src=\"https://colab.research.google.com/assets/colab-badge.svg\" alt=\"Open In Colab\"/></a>"
      ]
    },
    {
      "cell_type": "code",
      "metadata": {
        "id": "tVL3MHW_FjP0"
      },
      "source": [
        "from tensorflow.keras.preprocessing.text import Tokenizer\n",
        "from tensorflow.keras.preprocessing.sequence import pad_sequences"
      ],
      "execution_count": 6,
      "outputs": []
    },
    {
      "cell_type": "code",
      "metadata": {
        "id": "0iP8XF4IW4rY"
      },
      "source": [
        "sentences = [\n",
        "             'i love my cat',\n",
        "             'I, Love my Dog',\n",
        "             'You love my dog!',\n",
        "             'Do you really love my dog?'\n",
        "]"
      ],
      "execution_count": 7,
      "outputs": []
    },
    {
      "cell_type": "code",
      "metadata": {
        "colab": {
          "base_uri": "https://localhost:8080/"
        },
        "id": "_syJkFukXNag",
        "outputId": "f714ddca-99cf-4b3e-ad50-f620900a3173"
      },
      "source": [
        "token = Tokenizer(num_words=100,oov_token='oov') #<OOV> token\n",
        "token.fit_on_texts(sentences)\n",
        "print(token.word_index)"
      ],
      "execution_count": 16,
      "outputs": [
        {
          "output_type": "stream",
          "text": [
            "{'oov': 1, 'love': 2, 'my': 3, 'dog': 4, 'i': 5, 'you': 6, 'cat': 7, 'do': 8, 'really': 9}\n"
          ],
          "name": "stdout"
        }
      ]
    },
    {
      "cell_type": "code",
      "metadata": {
        "colab": {
          "base_uri": "https://localhost:8080/"
        },
        "id": "cn0v6CmKXp8l",
        "outputId": "3daa4387-fef2-4c3d-df91-ec33aa440dd6"
      },
      "source": [
        "sen = token.texts_to_sequences(sentences)\n",
        "print(sen)"
      ],
      "execution_count": 10,
      "outputs": [
        {
          "output_type": "stream",
          "text": [
            "[[4, 1, 2, 6], [4, 1, 2, 3], [5, 1, 2, 3], [7, 5, 8, 1, 2, 3]]\n"
          ],
          "name": "stdout"
        }
      ]
    },
    {
      "cell_type": "code",
      "metadata": {
        "colab": {
          "base_uri": "https://localhost:8080/"
        },
        "id": "wIebDqiJaT9u",
        "outputId": "fbcddced-0be2-41d7-e6f8-e9125d0a7d06"
      },
      "source": [
        "padded = pad_sequences(sen,maxlen=7,padding='post')\n",
        "print(padded)"
      ],
      "execution_count": 12,
      "outputs": [
        {
          "output_type": "stream",
          "text": [
            "[[4 1 2 6 0 0 0]\n",
            " [4 1 2 3 0 0 0]\n",
            " [5 1 2 3 0 0 0]\n",
            " [7 5 8 1 2 3 0]]\n"
          ],
          "name": "stdout"
        }
      ]
    },
    {
      "cell_type": "code",
      "metadata": {
        "id": "JlMY67Yoa0GL"
      },
      "source": [
        "test_data = [\n",
        "             'i did not really love my dog',\n",
        "             'my dog loves my manatee'\n",
        "]"
      ],
      "execution_count": 13,
      "outputs": []
    },
    {
      "cell_type": "code",
      "metadata": {
        "colab": {
          "base_uri": "https://localhost:8080/"
        },
        "id": "v5bpUi2ybOzp",
        "outputId": "e9934b82-44c1-4dc1-f3bc-d04e4411b94b"
      },
      "source": [
        "token.texts_to_sequences(test_data)"
      ],
      "execution_count": 14,
      "outputs": [
        {
          "output_type": "execute_result",
          "data": {
            "text/plain": [
              "[[4, 8, 1, 2, 3], [2, 3, 2]]"
            ]
          },
          "metadata": {
            "tags": []
          },
          "execution_count": 14
        }
      ]
    },
    {
      "cell_type": "code",
      "metadata": {
        "colab": {
          "base_uri": "https://localhost:8080/"
        },
        "id": "Io2yDKUcbVxq",
        "outputId": "577ea6f8-e00f-4673-ec54-bcf4212780e6"
      },
      "source": [
        "# after aading OOV token\n",
        "\n",
        "pad_sequences(token.texts_to_sequences(test_data),maxlen=5,truncating='post')"
      ],
      "execution_count": 18,
      "outputs": [
        {
          "output_type": "execute_result",
          "data": {
            "text/plain": [
              "array([[5, 1, 1, 9, 2],\n",
              "       [3, 4, 1, 3, 1]], dtype=int32)"
            ]
          },
          "metadata": {
            "tags": []
          },
          "execution_count": 18
        }
      ]
    }
  ]
}