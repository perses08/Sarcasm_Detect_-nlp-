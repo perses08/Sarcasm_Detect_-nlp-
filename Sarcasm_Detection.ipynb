{
  "nbformat": 4,
  "nbformat_minor": 0,
  "metadata": {
    "colab": {
      "name": "Sarcasm_Detection.ipynb",
      "provenance": [],
      "collapsed_sections": [],
      "authorship_tag": "ABX9TyOioqAX5OpE0DPKtCaFegmT",
      "include_colab_link": true
    },
    "kernelspec": {
      "name": "python3",
      "display_name": "Python 3"
    },
    "accelerator": "GPU"
  },
  "cells": [
    {
      "cell_type": "markdown",
      "metadata": {
        "id": "view-in-github",
        "colab_type": "text"
      },
      "source": [
        "<a href=\"https://colab.research.google.com/github/perses08/Sarcasm_Detect_-nlp-/blob/main/Sarcasm_Detection.ipynb\" target=\"_parent\"><img src=\"https://colab.research.google.com/assets/colab-badge.svg\" alt=\"Open In Colab\"/></a>"
      ]
    },
    {
      "cell_type": "code",
      "metadata": {
        "colab": {
          "base_uri": "https://localhost:8080/"
        },
        "id": "dQ7-dgJEASBm",
        "outputId": "2b2fd1a2-3895-4dcb-a5a6-2475a7b13b13"
      },
      "source": [
        "!wget --no-check-certificate \\\n",
        "    https://storage.googleapis.com/laurencemoroney-blog.appspot.com/sarcasm.json \\\n",
        "    -O /tmp/sarcasm.json"
      ],
      "execution_count": 1,
      "outputs": [
        {
          "output_type": "stream",
          "text": [
            "--2020-11-24 06:30:38--  https://storage.googleapis.com/laurencemoroney-blog.appspot.com/sarcasm.json\n",
            "Resolving storage.googleapis.com (storage.googleapis.com)... 142.250.73.240, 172.217.13.80, 172.217.13.240, ...\n",
            "Connecting to storage.googleapis.com (storage.googleapis.com)|142.250.73.240|:443... connected.\n",
            "HTTP request sent, awaiting response... 200 OK\n",
            "Length: 5643545 (5.4M) [application/json]\n",
            "Saving to: ‘/tmp/sarcasm.json’\n",
            "\n",
            "\r/tmp/sarcasm.json     0%[                    ]       0  --.-KB/s               \r/tmp/sarcasm.json   100%[===================>]   5.38M  --.-KB/s    in 0.05s   \n",
            "\n",
            "2020-11-24 06:30:38 (107 MB/s) - ‘/tmp/sarcasm.json’ saved [5643545/5643545]\n",
            "\n"
          ],
          "name": "stdout"
        }
      ]
    },
    {
      "cell_type": "code",
      "metadata": {
        "id": "XSo1BWMhhy1_"
      },
      "source": [
        "from tensorflow.keras.preprocessing.text import Tokenizer\n",
        "from tensorflow.keras.preprocessing.sequence import pad_sequences\n",
        "import json\n",
        "import tensorflow as tf"
      ],
      "execution_count": 2,
      "outputs": []
    },
    {
      "cell_type": "code",
      "metadata": {
        "id": "mFQUz1U2iG4q"
      },
      "source": [
        "with open('/tmp/sarcasm.json','r') as f:\n",
        "  datastore = json.load(f)"
      ],
      "execution_count": 3,
      "outputs": []
    },
    {
      "cell_type": "code",
      "metadata": {
        "id": "RVa50O7LiaoZ"
      },
      "source": [
        "sentences = []\n",
        "labels = []\n",
        "\n",
        "for item in datastore:\n",
        "  sentences.append(item['headline'])\n",
        "  labels.append(item['is_sarcastic'])"
      ],
      "execution_count": 4,
      "outputs": []
    },
    {
      "cell_type": "code",
      "metadata": {
        "colab": {
          "base_uri": "https://localhost:8080/"
        },
        "id": "I-hz34PB3GNK",
        "outputId": "827a508d-6f74-4833-851a-dec3014e63c8"
      },
      "source": [
        "len(sentences)"
      ],
      "execution_count": 5,
      "outputs": [
        {
          "output_type": "execute_result",
          "data": {
            "text/plain": [
              "26709"
            ]
          },
          "metadata": {
            "tags": []
          },
          "execution_count": 5
        }
      ]
    },
    {
      "cell_type": "code",
      "metadata": {
        "id": "SRNszGUi2stC"
      },
      "source": [
        "train_x = sentences[:20000]\n",
        "train_y = labels[:20000]"
      ],
      "execution_count": 6,
      "outputs": []
    },
    {
      "cell_type": "code",
      "metadata": {
        "id": "41YgGZfG2r0J"
      },
      "source": [
        "test_x = sentences[20000:]\n",
        "test_y = labels[20000:]"
      ],
      "execution_count": 7,
      "outputs": []
    },
    {
      "cell_type": "code",
      "metadata": {
        "id": "h2QpCEaN3hrr"
      },
      "source": [
        "token = Tokenizer(num_words=10000,oov_token='<OOV>')\n",
        "token.fit_on_texts(sentences)"
      ],
      "execution_count": 8,
      "outputs": []
    },
    {
      "cell_type": "code",
      "metadata": {
        "id": "I6zEjmG3Cz0e"
      },
      "source": [
        "word_index = token.word_index"
      ],
      "execution_count": 24,
      "outputs": []
    },
    {
      "cell_type": "code",
      "metadata": {
        "id": "7pg56C8x3xn7"
      },
      "source": [
        "training_sentences = token.texts_to_sequences(train_x)\n",
        "test_sentences = token.texts_to_sequences(test_x)"
      ],
      "execution_count": 9,
      "outputs": []
    },
    {
      "cell_type": "code",
      "metadata": {
        "id": "CA10G-ZA4VJi"
      },
      "source": [
        "padded_train = pad_sequences(training_sentences,maxlen=120,padding='post',truncating='post')\n",
        "padded_test = pad_sequences(test_sentences,maxlen=120,padding='post',truncating='post')"
      ],
      "execution_count": 10,
      "outputs": []
    },
    {
      "cell_type": "code",
      "metadata": {
        "id": "mfOjPauk49YW"
      },
      "source": [
        "import numpy as np\n",
        "train_x = np.array(padded_train)\n",
        "train_y = np.array(train_y)\n",
        "test_x = np.array(padded_test)\n",
        "test_y = np.array(test_y)"
      ],
      "execution_count": 11,
      "outputs": []
    },
    {
      "cell_type": "code",
      "metadata": {
        "id": "1nBqDypC53ar"
      },
      "source": [
        "model = tf.keras.Sequential([\n",
        "                             tf.keras.layers.Embedding(10000,32,input_length=120),\n",
        "                             tf.keras.layers.Flatten(),\n",
        "                             tf.keras.layers.Dense(32,activation='relu'),\n",
        "                             tf.keras.layers.Dense(1,activation='sigmoid')\n",
        "])"
      ],
      "execution_count": 12,
      "outputs": []
    },
    {
      "cell_type": "code",
      "metadata": {
        "colab": {
          "base_uri": "https://localhost:8080/"
        },
        "id": "0y4SC5Sn7yDz",
        "outputId": "1a3e3229-bfc9-4ab8-8923-cea435151611"
      },
      "source": [
        "model.summary()"
      ],
      "execution_count": 13,
      "outputs": [
        {
          "output_type": "stream",
          "text": [
            "Model: \"sequential\"\n",
            "_________________________________________________________________\n",
            "Layer (type)                 Output Shape              Param #   \n",
            "=================================================================\n",
            "embedding (Embedding)        (None, 120, 32)           320000    \n",
            "_________________________________________________________________\n",
            "flatten (Flatten)            (None, 3840)              0         \n",
            "_________________________________________________________________\n",
            "dense (Dense)                (None, 32)                122912    \n",
            "_________________________________________________________________\n",
            "dense_1 (Dense)              (None, 1)                 33        \n",
            "=================================================================\n",
            "Total params: 442,945\n",
            "Trainable params: 442,945\n",
            "Non-trainable params: 0\n",
            "_________________________________________________________________\n"
          ],
          "name": "stdout"
        }
      ]
    },
    {
      "cell_type": "code",
      "metadata": {
        "id": "3D5uXtKR8zDD"
      },
      "source": [
        "model.compile(loss=tf.keras.losses.BinaryCrossentropy(),optimizer=tf.keras.optimizers.Adam(),metrics=['accuracy'])"
      ],
      "execution_count": 17,
      "outputs": []
    },
    {
      "cell_type": "code",
      "metadata": {
        "colab": {
          "base_uri": "https://localhost:8080/"
        },
        "id": "t0NyvClI8BFD",
        "outputId": "f0205e62-58e7-4484-f41c-22fede756c65"
      },
      "source": [
        "history = model.fit(train_x,train_y,epochs=30,validation_data=(test_x,test_y),verbose=2)"
      ],
      "execution_count": 18,
      "outputs": [
        {
          "output_type": "stream",
          "text": [
            "Epoch 1/30\n",
            "625/625 - 3s - loss: 0.4345 - accuracy: 0.7837 - val_loss: 0.3241 - val_accuracy: 0.8577\n",
            "Epoch 2/30\n",
            "625/625 - 3s - loss: 0.2042 - accuracy: 0.9176 - val_loss: 0.3204 - val_accuracy: 0.8650\n",
            "Epoch 3/30\n",
            "625/625 - 3s - loss: 0.1090 - accuracy: 0.9624 - val_loss: 0.3672 - val_accuracy: 0.8597\n",
            "Epoch 4/30\n",
            "625/625 - 3s - loss: 0.0486 - accuracy: 0.9864 - val_loss: 0.4378 - val_accuracy: 0.8566\n",
            "Epoch 5/30\n",
            "625/625 - 3s - loss: 0.0179 - accuracy: 0.9967 - val_loss: 0.5182 - val_accuracy: 0.8538\n",
            "Epoch 6/30\n",
            "625/625 - 3s - loss: 0.0075 - accuracy: 0.9990 - val_loss: 0.5964 - val_accuracy: 0.8514\n",
            "Epoch 7/30\n",
            "625/625 - 4s - loss: 0.0032 - accuracy: 0.9997 - val_loss: 0.6539 - val_accuracy: 0.8495\n",
            "Epoch 8/30\n",
            "625/625 - 4s - loss: 0.0022 - accuracy: 0.9995 - val_loss: 0.6780 - val_accuracy: 0.8512\n",
            "Epoch 9/30\n",
            "625/625 - 4s - loss: 0.0016 - accuracy: 0.9997 - val_loss: 0.7283 - val_accuracy: 0.8487\n",
            "Epoch 10/30\n",
            "625/625 - 3s - loss: 0.0010 - accuracy: 0.9998 - val_loss: 0.7650 - val_accuracy: 0.8487\n",
            "Epoch 11/30\n",
            "625/625 - 3s - loss: 0.0013 - accuracy: 0.9995 - val_loss: 0.8155 - val_accuracy: 0.8465\n",
            "Epoch 12/30\n",
            "625/625 - 3s - loss: 9.0019e-04 - accuracy: 0.9998 - val_loss: 0.8491 - val_accuracy: 0.8487\n",
            "Epoch 13/30\n",
            "625/625 - 3s - loss: 9.6868e-04 - accuracy: 0.9998 - val_loss: 0.8780 - val_accuracy: 0.8489\n",
            "Epoch 14/30\n",
            "625/625 - 3s - loss: 8.7051e-04 - accuracy: 0.9997 - val_loss: 0.9205 - val_accuracy: 0.8492\n",
            "Epoch 15/30\n",
            "625/625 - 3s - loss: 0.0011 - accuracy: 0.9997 - val_loss: 0.9776 - val_accuracy: 0.8423\n",
            "Epoch 16/30\n",
            "625/625 - 3s - loss: 9.3070e-04 - accuracy: 0.9997 - val_loss: 1.0761 - val_accuracy: 0.8414\n",
            "Epoch 17/30\n",
            "625/625 - 3s - loss: 9.9931e-04 - accuracy: 0.9997 - val_loss: 1.1127 - val_accuracy: 0.8439\n",
            "Epoch 18/30\n",
            "625/625 - 3s - loss: 0.0012 - accuracy: 0.9996 - val_loss: 1.0764 - val_accuracy: 0.8422\n",
            "Epoch 19/30\n",
            "625/625 - 3s - loss: 7.9737e-04 - accuracy: 0.9998 - val_loss: 1.0659 - val_accuracy: 0.8398\n",
            "Epoch 20/30\n",
            "625/625 - 3s - loss: 8.2071e-04 - accuracy: 0.9997 - val_loss: 1.2454 - val_accuracy: 0.8386\n",
            "Epoch 21/30\n",
            "625/625 - 3s - loss: 7.3368e-04 - accuracy: 0.9998 - val_loss: 1.2203 - val_accuracy: 0.8381\n",
            "Epoch 22/30\n",
            "625/625 - 3s - loss: 9.2826e-04 - accuracy: 0.9997 - val_loss: 1.1230 - val_accuracy: 0.8423\n",
            "Epoch 23/30\n",
            "625/625 - 3s - loss: 8.4547e-04 - accuracy: 0.9997 - val_loss: 1.3011 - val_accuracy: 0.8356\n",
            "Epoch 24/30\n",
            "625/625 - 3s - loss: 0.0010 - accuracy: 0.9997 - val_loss: 1.1780 - val_accuracy: 0.8401\n",
            "Epoch 25/30\n",
            "625/625 - 3s - loss: 9.7831e-04 - accuracy: 0.9998 - val_loss: 1.3237 - val_accuracy: 0.8290\n",
            "Epoch 26/30\n",
            "625/625 - 3s - loss: 7.5845e-04 - accuracy: 0.9997 - val_loss: 1.2733 - val_accuracy: 0.8399\n",
            "Epoch 27/30\n",
            "625/625 - 3s - loss: 9.0531e-04 - accuracy: 0.9997 - val_loss: 0.9828 - val_accuracy: 0.8325\n",
            "Epoch 28/30\n",
            "625/625 - 3s - loss: 7.2698e-04 - accuracy: 0.9998 - val_loss: 1.2365 - val_accuracy: 0.8417\n",
            "Epoch 29/30\n",
            "625/625 - 3s - loss: 9.8045e-04 - accuracy: 0.9997 - val_loss: 1.3249 - val_accuracy: 0.8319\n",
            "Epoch 30/30\n",
            "625/625 - 3s - loss: 7.8834e-04 - accuracy: 0.9997 - val_loss: 1.2358 - val_accuracy: 0.8387\n"
          ],
          "name": "stdout"
        }
      ]
    },
    {
      "cell_type": "code",
      "metadata": {
        "colab": {
          "base_uri": "https://localhost:8080/",
          "height": 541
        },
        "id": "RbPN64Na8wQX",
        "outputId": "e7c71b6d-2035-4252-d867-07d327220ca2"
      },
      "source": [
        "import matplotlib.pyplot as plt\n",
        "\n",
        "\n",
        "def plot_graphs(history, string):\n",
        "  plt.plot(history.history[string])\n",
        "  plt.plot(history.history['val_'+string])\n",
        "  plt.xlabel(\"Epochs\")\n",
        "  plt.ylabel(string)\n",
        "  plt.legend([string, 'val_'+string])\n",
        "  plt.show()\n",
        "  \n",
        "plot_graphs(history, \"accuracy\")\n",
        "plot_graphs(history, \"loss\")"
      ],
      "execution_count": 19,
      "outputs": [
        {
          "output_type": "display_data",
          "data": {
            "image/png": "[encoded data removed]",
            "text/plain": [
              "<Figure size 432x288 with 1 Axes>"
            ]
          },
          "metadata": {
            "tags": [],
            "needs_background": "light"
          }
        },
        {
          "output_type": "display_data",
          "data": {
            "image/png": "[encoded data removed]",
            "text/plain": [
              "<Figure size 432x288 with 1 Axes>"
            ]
          },
          "metadata": {
            "tags": [],
            "needs_background": "light"
          }
        }
      ]
    },
    {
      "cell_type": "code",
      "metadata": {
        "colab": {
          "base_uri": "https://localhost:8080/"
        },
        "id": "0gD4_tDU-CEy",
        "outputId": "0396b60e-25a2-4dd7-a2b1-8a123f51794f"
      },
      "source": [
        "sentence = [\"granny starting to fear spiders in the garden might be real\", \"game of thrones season finale showing this sunday night\"]\n",
        "sequences = token.texts_to_sequences(sentence)\n",
        "padded = pad_sequences(sequences, maxlen=120, padding='post', truncating='post')\n",
        "print(model.predict(padded))"
      ],
      "execution_count": 23,
      "outputs": [
        {
          "output_type": "stream",
          "text": [
            "[[9.9880195e-01]\n",
            " [2.2347408e-06]]\n"
          ],
          "name": "stdout"
        }
      ]
    },
    {
      "cell_type": "code",
      "metadata": {
        "id": "WDvYqriJ-YS1"
      },
      "source": [
        "reverse_word_index = dict([(value, key) for (key, value) in word_index.items()])\n",
        "\n",
        "def decode_sentence(text):\n",
        "    return ' '.join([reverse_word_index.get(i, '?') for i in text])\n",
        "\n",
        "print(decode_sentence(training_padded[0]))\n",
        "print(training_sentences[2])\n",
        "print(labels[2])"
      ],
      "execution_count": null,
      "outputs": []
    },
    {
      "cell_type": "code",
      "metadata": {
        "id": "xJHpEwJvCbnA"
      },
      "source": [
        "e = model.layers[0]\n",
        "weights = e.get_weights()[0]\n",
        "print(weights.shape) # shape: (vocab_size, embedding_dim)"
      ],
      "execution_count": null,
      "outputs": []
    },
    {
      "cell_type": "code",
      "metadata": {
        "id": "Re5PiiUKCl-F"
      },
      "source": [
        "import io\n",
        "\n",
        "out_v = io.open('vecs.tsv', 'w', encoding='utf-8')\n",
        "out_m = io.open('meta.tsv', 'w', encoding='utf-8')\n",
        "for word_num in range(1, vocab_size):\n",
        "  word = reverse_word_index[word_num]\n",
        "  embeddings = weights[word_num]\n",
        "  out_m.write(word + \"\\n\")\n",
        "  out_v.write('\\t'.join([str(x) for x in embeddings]) + \"\\n\")\n",
        "out_v.close()\n",
        "out_m.close()"
      ],
      "execution_count": null,
      "outputs": []
    },
    {
      "cell_type": "code",
      "metadata": {
        "id": "ix32pacxCnJr"
      },
      "source": [
        "try:\n",
        "  from google.colab import files\n",
        "except ImportError:\n",
        "  pass\n",
        "else:\n",
        "  files.download('vecs.tsv')\n",
        "  files.download('meta.tsv')"
      ],
      "execution_count": null,
      "outputs": []
    }
  ]
}