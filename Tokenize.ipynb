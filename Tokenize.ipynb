{
  "nbformat": 4,
  "nbformat_minor": 0,
  "metadata": {
    "colab": {
      "name": "Tokenize.ipynb",
      "provenance": [],
      "authorship_tag": "ABX9TyP/nNjdBkc7Wfg8JDegk9fN",
      "include_colab_link": true
    },
    "kernelspec": {
      "name": "python3",
      "display_name": "Python 3"
    }
  },
  "cells": [
    {
      "cell_type": "markdown",
      "metadata": {
        "id": "view-in-github",
        "colab_type": "text"
      },
      "source": [
        "<a href=\"https://colab.research.google.com/github/perses08/Sarcasm_Detect_-nlp-/blob/main/Tokenize.ipynb\" target=\"_parent\"><img src=\"https://colab.research.google.com/assets/colab-badge.svg\" alt=\"Open In Colab\"/></a>"
      ]
    },
    {
      "cell_type": "code",
      "metadata": {
        "id": "tVL3MHW_FjP0"
      },
      "source": [
        "from tensorflow.keras.preprocessing.text import Tokenizer"
      ],
      "execution_count": 1,
      "outputs": []
    },
    {
      "cell_type": "code",
      "metadata": {
        "id": "0iP8XF4IW4rY"
      },
      "source": [
        "sentences = [\n",
        "             'i love my cat',\n",
        "             'I, Love my Dog',\n",
        "             'You love my dog!'\n",
        "]"
      ],
      "execution_count": 2,
      "outputs": []
    },
    {
      "cell_type": "code",
      "metadata": {
        "colab": {
          "base_uri": "https://localhost:8080/"
        },
        "id": "_syJkFukXNag",
        "outputId": "af1bde24-10ea-4a67-b3d7-cd08ff469008"
      },
      "source": [
        "token = Tokenizer(num_words=100)\n",
        "token.fit_on_texts(sentences)\n",
        "print(token.word_index)"
      ],
      "execution_count": 3,
      "outputs": [
        {
          "output_type": "stream",
          "text": [
            "{'love': 1, 'my': 2, 'i': 3, 'dog': 4, 'cat': 5, 'you': 6}\n"
          ],
          "name": "stdout"
        }
      ]
    },
    {
      "cell_type": "code",
      "metadata": {
        "colab": {
          "base_uri": "https://localhost:8080/"
        },
        "id": "cn0v6CmKXp8l",
        "outputId": "288030b6-6ed8-400a-e806-9b6f091343d9"
      },
      "source": [
        "sen = token.texts_to_sequences(sentences)\n",
        "print(sen)"
      ],
      "execution_count": 5,
      "outputs": [
        {
          "output_type": "stream",
          "text": [
            "[[3, 1, 2, 5], [3, 1, 2, 4], [6, 1, 2, 4]]\n"
          ],
          "name": "stdout"
        }
      ]
    }
  ]
}